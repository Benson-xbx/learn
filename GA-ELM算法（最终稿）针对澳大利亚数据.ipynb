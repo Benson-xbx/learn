{
 "cells": [
  {
   "cell_type": "code",
   "execution_count": 27,
   "metadata": {},
   "outputs": [],
   "source": [
    "import numpy as np\n",
    "import pandas as pd\n",
    "from numpy.random import random as rand\n",
    "from tqdm import tqdm \n",
    "import random\n",
    "import math\n",
    "import matplotlib as mpl\n",
    "import matplotlib.pyplot as plt\n",
    "from sklearn.preprocessing import StandardScaler\n",
    "import matplotlib as mpl\n",
    "import matplotlib.pyplot as plt"
   ]
  },
  {
   "cell_type": "markdown",
   "metadata": {},
   "source": [
    "# 导入数据"
   ]
  },
  {
   "cell_type": "code",
   "execution_count": 49,
   "metadata": {},
   "outputs": [],
   "source": [
    "#澳大利亚数据集，参数为15个（含常数项）\n",
    "ss = StandardScaler()\n",
    "b = np.ones(data.shape[0])\n",
    "data = np.loadtxt(r'dataset/australian.dat')\n",
    "ones=np.ones(data.shape[0])\n",
    "data = np.column_stack((ones,data))\n",
    "for i in range(data.shape[0]):\n",
    "    if data[:,-1][i]==0:\n",
    "        data[:,-1][i]=-1\n",
    "X_test=data[-600:,:-1]\n",
    "y_test=data[-600:, -1]\n",
    "X=data[:-600,:-1]\n",
    "y=data[:-600:, -1]\n",
    "X=ss.fit_transform(X)\n",
    "X_test=ss.fit_transform(X_test)"
   ]
  },
  {
   "cell_type": "markdown",
   "metadata": {},
   "source": [
    "# 神经网络"
   ]
  },
  {
   "cell_type": "code",
   "execution_count": 29,
   "metadata": {
    "scrolled": true
   },
   "outputs": [],
   "source": [
    "#定义激活函数,函数暂定\n",
    "def fp(x,p=5):\n",
    "    exp1=4*p-2;exp2=1/(4*p-2)\n",
    "    return x/(0.000001+(1+x**(exp1))**exp2)"
   ]
  },
  {
   "cell_type": "code",
   "execution_count": 30,
   "metadata": {},
   "outputs": [],
   "source": [
    "#定义神经网络损失函数，输出为目标函数值以及对应的隐藏层偏执向量\n",
    "#只能对一个个种群单独计算\n",
    "def function1(W,C=0.1):#含有权重\n",
    "    H_in=X.dot(W)\n",
    "    H_out=fp(H_in)    \n",
    "    HH= H_out.T.dot(H_out); HT = H_out.T.dot(y)\n",
    "    b=np.linalg.pinv(HH+np.identity(W.shape[1])/C).dot(HT)\n",
    "    sum2=0\n",
    "    for j in range(X.shape[0]):\n",
    "        sum1=0\n",
    "        for i in range(W.shape[1]):#默认权重从w0常数项开始，包括了偏执b\n",
    "            sum1+=b[i]*fp(W[:,i].dot(X[j]))\n",
    "        error=sum1-y[j]\n",
    "        sum2+=(error)**2\n",
    "    F=np.sqrt(sum2/X.shape[0])\n",
    "#     print(b,'--------')\n",
    "    return (F,b)"
   ]
  },
  {
   "cell_type": "code",
   "execution_count": 31,
   "metadata": {},
   "outputs": [],
   "source": [
    "#用于function1的预测函数\n",
    "def predict1(W,b,C=0.1):#含有权重\n",
    "    H_in=X_test.dot(W)\n",
    "    fx=H_in.dot(b)\n",
    "    return fx"
   ]
  },
  {
   "cell_type": "markdown",
   "metadata": {},
   "source": [
    "# 遗传算法"
   ]
  },
  {
   "cell_type": "code",
   "execution_count": 47,
   "metadata": {},
   "outputs": [],
   "source": [
    "class GA:\n",
    "    def __init__(self,objfunction,gen,population_size,hidden,weight,chromosome_length,max_value,death_rate,pc,pm,lower,upper):#定义初始化\n",
    "        self.objfunction=objfunction#目标函数，神经网络，接受的矩阵形式，种群数量*隐藏层*权重分布\n",
    "        self.weight=weight #所求参数的数量\n",
    "        self.population_size=population_size #种群数量\n",
    "        self.hidden=hidden#隐藏层数量\n",
    "        self.cl=chromosome_length#一个参数对应的基因数量\n",
    "        self.choromosome_length=chromosome_length*hidden*weight #基因的长度，单参数基因长度*隐藏层*权重层        \n",
    "        self.max_value=max_value#适应度函数参数\n",
    "        self.death_rate=death_rate#自然淘汰率，这个比率代表了有多少种群要被淘汰\n",
    "        self.pc=pc#杂交率\n",
    "        self.pm=pm#变异率\n",
    "        self.gen=gen#迭代率\n",
    "        self.lower=lower\n",
    "        self.upper=upper\n",
    "        \n",
    "#     def species_origin(self):#定义population为种群数量*基因长度的矩阵，种群数量*隐藏层*权重分布  \n",
    "#         self.population=np.random.randint(0,2,size=(self.population_size,\n",
    "#                                                     self.choromosome_length))#输出种群数量*基因长度\n",
    "    def species_origin(self):#定义population为种群数量*基因长度的矩阵，种群数量*隐藏层*权重分布  \n",
    "        population=np.random.randint(0,2,size=(self.population_size,self.choromosome_length))#输出种群数量*基因长度\n",
    "        return population\n",
    "\n",
    "    \n",
    "    def translation(self,population): #定义对一个种群转换为对接神经网络的矩阵，输出为隐藏层*权重分布,       \n",
    "#         print(po_ne)\n",
    "        population_3D=population.reshape(self.hidden,self.weight,self.cl)#输出矩阵形式：隐藏层*权重分布*基因向量\n",
    "        population_2D_decimal=np.zeros((self.hidden,self.weight))\n",
    "        for j in range(population_3D.shape[0]):#循环每个隐藏层\n",
    "                for m in range(self.weight):#循环每个权重\n",
    "#                     if population[-1]==1:\n",
    "#                          po_ne=-1\n",
    "#                     else:\n",
    "#                          po_ne=1\n",
    "                    total1=0#计算每个权重的大小\n",
    "                    for n in range(self.cl):#循环每一位基因\n",
    "                            total1+=population_3D[j][m][n]*(math.pow(2,n))\n",
    "                    population_2D_decimal[j][m]=total1\n",
    "        for j in range(population_2D_decimal.shape[0]):\n",
    "                for m in range(population_2D_decimal.shape[1]):\n",
    "                    population_2D_decimal[j][m]=self.lower+population_2D_decimal[j][m]*(self.upper-self.lower)*self.max_value/(math.pow(2,self.cl)-1)\n",
    "#         print(population_2D_decimal)\n",
    "        return population_2D_decimal\n",
    "    #经过函数转换后,输出了2D形态poputation[i]的十进制表示，population_2D_decimal矩阵的形式为：隐藏层*权重分布 \n",
    "      \n",
    "    def fitnessfunc(self,population,fitness):#fitnessfuc计算population的适应能力,返回一维数据,种群数量*1,\n",
    "        for i in range(population.shape[0]):#在此处循环每一个种群\n",
    "               fitness[i]=self.objfunction(self.translation(population[i]).T)[0]#先转换成权重*隐藏层进入神经网络再计算 \n",
    "#         print('目前一代的性状表现是:','\\n',fitness)\n",
    "        return (fitness)\n",
    " \n",
    " \n",
    "    def selection(self,population,fitness,death_rate):\n",
    "        rat_fitness=np.zeros(fitness.size)#适应度权重初始化\n",
    "        sum_fitness=np.sum(abs(fitness))#适应度求和\n",
    "        for i in range(fitness.size):#在每个种群中迭代\n",
    "            rat_fitness[i]=abs(fitness[i])/sum_fitness#计算每个种群适应度权重\n",
    "#         print(rat_fitness[i])\n",
    "        death_idx=np.random.choice(a=population.shape[0], size=math.ceil(death_rate*population.shape[0]), \n",
    "                   replace=False, p=rat_fitness)#确定死亡名单，death_idx代表了要删除的序号，权重越高越容易死  \n",
    "        new_population=np.delete(population,death_idx,0)#删除死亡名单上的种群\n",
    "#             print(new_population.shape)\n",
    "        empty_space=population.shape[0]-new_population.shape[0] #计算相比原来种群数量还空缺的位置\n",
    "        for i in range(empty_space):#依次在空缺位置填补，复制原来筛选下来的种群，确保前后数量一致\n",
    "            temp=random.randint(0,new_population.shape[0])-1#随机生成复制目标行的序号\n",
    "#             print(temp)\n",
    "            new_population=np.row_stack((new_population,new_population[temp]))#添加复制行\n",
    "        population=new_population#完成自然选择与淘汰\n",
    "#         print(\"自然选择了\")\n",
    "        return population\n",
    "\n",
    "#需要优化##########################################################################       \n",
    "    def crossover(self,population):\n",
    "        population_4D=population.reshape(self.population_size,self.hidden,self.weight,self.cl)#输出矩阵形式：种群*隐藏层*权重分布*基因向量\n",
    "#         pop_len=population.shape[0]\n",
    "        for i in range(population_4D.shape[0]-1):\n",
    "            if(random.random()<self.pc):\n",
    "                for m in range(population_4D.shape[1]):#迭代每一个隐藏层\n",
    "                    for n in range(population_4D.shape[2]):#迭代每一个权重层\n",
    "                           cpoint=random.randint(0,population_4D.shape[3])#随机找到权重上一个基因位置\n",
    "                           temporary1=[]#子代1\n",
    "                           temporary2=[]#子代2\n",
    "                           temporary1.extend(population_4D[i][m][n][0:cpoint])#在子代1中放入父代1的一段\n",
    "                           temporary1.extend(population_4D[i+1][m][n][cpoint:population_4D.shape[3]])#在子代1中放入父代2的一段\n",
    "                           temporary2.extend(population_4D[i+1][m][n][0:cpoint])#在子代2中放入父代2的一段\n",
    "                           temporary2.extend(population_4D[i][m][n][cpoint:population_4D.shape[3]])#在子代2中放入父代1的一段\n",
    "                           population_4D[i][m][n]=np.asarray(temporary1)\n",
    "                           population_4D[i+1][m][n]=np.asarray(temporary2)#完成染色体交换\n",
    "        population_4D.reshape(self.population_size,self.choromosome_length)\n",
    "#         print(\"杂交了\")\n",
    "        return population\n",
    "            \n",
    "    def mutation(self,population):\n",
    "         px=population.shape[0]\n",
    "         py=population.shape[1]\n",
    "         for i in range(px):#在种群中迭代\n",
    "             if(random.random()<self.pm):#随机生成一个数和变异率比较，如果比变异率还小的话进行以下操作\n",
    "                for j in range(self.weight*self.hidden):#g根据基因的长短进行变异的次数\n",
    "                        mpoint=random.randint(0,py-1)#在基因的某个位置生成一个变异点\n",
    "                        if(population[i][mpoint]==1):#进行1到0的变换或0到1的变换\n",
    "                           population[i][mpoint]=0\n",
    "                        else:\n",
    "                           population[i][mpoint]=1\n",
    "#          print(\"变异了\")\n",
    "         return population\n",
    " \n",
    "#     def b2d(self,best_individual):\n",
    "#         total=0\n",
    "#         b=len(best_individual)\n",
    "#         for i in range(b):\n",
    "#             total=total+best_individual[i]*math.pow(2,i)\n",
    "#         total=total*self.max_value/(math.pow(2,self.choromosome_length)-10)\n",
    "#         return total\n",
    "  \n",
    "    def best(self,population,fitness,best_individual,best_fitness):\n",
    "        px=population.shape[0]\n",
    "        best_fitness=fitness[0] #先定义bestfitness作对比\n",
    "#         print(bestfitness)\n",
    "        for i in range(1,px):\n",
    "            if fitness[i]<best_fitness: #同时满足适应度>0并且要比目前最好的还要好\n",
    "                best_fitness=fitness[i]#更新最优秀的适应度\n",
    "                best_individual=population[i]#更新最优秀的基因\n",
    "        return (best_individual,best_fitness)\n",
    " \n",
    "    def main(self):\n",
    "        fitness=np.zeros(self.population_size)#随机初始化适应度，初始化\n",
    "        population = self.species_origin()#初始化种群，初始化\n",
    "        fitness=self.fitnessfunc(population,fitness)#更新初始化适应度以及隐藏层偏执\n",
    "        best_b=np.zeros(population.shape[1])#创建最佳隐藏层偏执列表，初始化\n",
    "        best_individual=np.random.randint(0,2,self.choromosome_length)#存储最优秀的种群基因，初始化\n",
    "        best_hidden_weight=np.zeros((self.hidden,self.weight))#存储最优秀的2D性状，隐藏层*权重分布，初始化\n",
    "        best_fitness=10000000#存储最优秀个体的适应度\n",
    "        best_fitness_note=np.zeros(self.gen)#记录每一次迭代的最优秀个体适应度\n",
    "        print('====================物种初始化结束,开始进化=====================')\n",
    "        for i in tqdm(range(self.gen)): \n",
    "#                 print('==============第',i+1,'轮重新计算适应度==============')               \n",
    "                population=self.selection(population,fitness,self.death_rate)#进行自然选择淘汰\n",
    "                population=self.crossover(population)#进行基因杂交\n",
    "                population=self.mutation(population)#进行基因突变\n",
    "                fitness=self.fitnessfunc(population,fitness)#更新初始化适应度以及隐藏层偏执\n",
    "                best_individual,best_fitness=self.best(population,fitness,best_individual,best_fitness)#寻找最佳\n",
    "                best_hidden_weight=self.translation(best_individual)#更新最优秀的2D性状，隐藏层*权重分布\n",
    "                best_fitness_note[i]=best_fitness#记录最优适应度记录                        \n",
    "                if i%10==0:\n",
    "                    best_b=self.objfunction(best_hidden_weight.T)[1]\n",
    "                    predict=predict1(best_hidden_weight.T,best_b)\n",
    "                    for i in range(predict.size):\n",
    "                        if predict[i]>0:\n",
    "                            predict[i]=1\n",
    "                        else:\n",
    "                            predict[i]=-1\n",
    "                    sum=0\n",
    "                    for i in range(predict.size):\n",
    "                        if predict[i]==y_test[i]:\n",
    "                            sum+=1\n",
    "                    rate=sum/len(predict)\n",
    "                    print('预测成功率:',rate)\n",
    "#                     print('目前一代的最优性状2D表现是:','\\n',best_hidden_weight)\n",
    "                    print('第',i+1,'轮中最好的适应度是:',best_fitness)\n",
    "#                     print('目前一代的最适应表现是:','\\n',fitness)\n",
    "                    print('========================继续进化=========================')\n",
    "        best_individual,best_fitness=self.best(population,fitness,best_individual,best_fitness)#更新最优秀的适应度和基因\n",
    "        best_fitness_note[-1]=best_fitness#记录最优适应度记录\n",
    "        best_hidden_weight=self.translation(best_individual).T#更新最优秀的2D性状，隐藏层*权重分布\n",
    "        best_b=self.objfunction(best_hidden_weight)[1]#更新最优秀的隐藏层偏执\n",
    "        print('最好的隐藏层矩阵是:',best_hidden_weight)\n",
    "        print('最好的隐藏层偏执是:',best_b)\n",
    "        print('最好的适应度是:',best_fitness)\n",
    "        plt.plot(best_fitness_note)\n",
    "        print('最终预测成功率:',rate)\n",
    "        print('=========================END=======================')\n",
    "        return (best_hidden_weight,best_b)"
   ]
  },
  {
   "cell_type": "markdown",
   "metadata": {},
   "source": [
    "# 学习与预测"
   ]
  },
  {
   "cell_type": "code",
   "execution_count": 48,
   "metadata": {
    "scrolled": false
   },
   "outputs": [
    {
     "name": "stderr",
     "output_type": "stream",
     "text": [
      "\r",
      "  0%|          | 0/500 [00:00<?, ?it/s]"
     ]
    },
    {
     "name": "stdout",
     "output_type": "stream",
     "text": [
      "====================物种初始化结束,开始进化=====================\n"
     ]
    },
    {
     "name": "stderr",
     "output_type": "stream",
     "text": [
      "\r",
      "  0%|          | 1/500 [00:03<29:07,  3.50s/it]"
     ]
    },
    {
     "name": "stdout",
     "output_type": "stream",
     "text": [
      "预测成功率: 0.8466666666666667\n",
      "第 600 轮中最好的适应度是: 0.6027761411333724\n",
      "========================继续进化=========================\n"
     ]
    },
    {
     "name": "stderr",
     "output_type": "stream",
     "text": [
      "  2%|▏         | 11/500 [00:37<28:19,  3.48s/it]"
     ]
    },
    {
     "name": "stdout",
     "output_type": "stream",
     "text": [
      "预测成功率: 0.77\n",
      "第 600 轮中最好的适应度是: 0.5566451235598915\n",
      "========================继续进化=========================\n"
     ]
    },
    {
     "name": "stderr",
     "output_type": "stream",
     "text": [
      "  4%|▍         | 21/500 [01:17<33:52,  4.24s/it]"
     ]
    },
    {
     "name": "stdout",
     "output_type": "stream",
     "text": [
      "预测成功率: 0.8\n",
      "第 600 轮中最好的适应度是: 0.5427907824102666\n",
      "========================继续进化=========================\n"
     ]
    },
    {
     "name": "stderr",
     "output_type": "stream",
     "text": [
      "  6%|▌         | 31/500 [01:56<31:04,  3.98s/it]"
     ]
    },
    {
     "name": "stdout",
     "output_type": "stream",
     "text": [
      "预测成功率: 0.8233333333333334\n",
      "第 600 轮中最好的适应度是: 0.5515711852405107\n",
      "========================继续进化=========================\n"
     ]
    },
    {
     "name": "stderr",
     "output_type": "stream",
     "text": [
      "  8%|▊         | 41/500 [03:04<53:57,  7.05s/it]"
     ]
    },
    {
     "name": "stdout",
     "output_type": "stream",
     "text": [
      "预测成功率: 0.8516666666666667\n",
      "第 600 轮中最好的适应度是: 0.5521138865380056\n",
      "========================继续进化=========================\n"
     ]
    },
    {
     "name": "stderr",
     "output_type": "stream",
     "text": [
      " 10%|█         | 51/500 [03:54<39:29,  5.28s/it]"
     ]
    },
    {
     "name": "stdout",
     "output_type": "stream",
     "text": [
      "预测成功率: 0.85\n",
      "第 600 轮中最好的适应度是: 0.4774297466147\n",
      "========================继续进化=========================\n"
     ]
    },
    {
     "name": "stderr",
     "output_type": "stream",
     "text": [
      " 12%|█▏        | 61/500 [05:05<49:54,  6.82s/it]"
     ]
    },
    {
     "name": "stdout",
     "output_type": "stream",
     "text": [
      "预测成功率: 0.8133333333333334\n",
      "第 600 轮中最好的适应度是: 0.4516418630961711\n",
      "========================继续进化=========================\n"
     ]
    },
    {
     "name": "stderr",
     "output_type": "stream",
     "text": [
      " 14%|█▍        | 71/500 [06:06<43:09,  6.04s/it]"
     ]
    },
    {
     "name": "stdout",
     "output_type": "stream",
     "text": [
      "预测成功率: 0.8283333333333334\n",
      "第 600 轮中最好的适应度是: 0.5062093061810962\n",
      "========================继续进化=========================\n"
     ]
    },
    {
     "name": "stderr",
     "output_type": "stream",
     "text": [
      " 16%|█▌        | 81/500 [07:09<42:30,  6.09s/it]"
     ]
    },
    {
     "name": "stdout",
     "output_type": "stream",
     "text": [
      "预测成功率: 0.815\n",
      "第 600 轮中最好的适应度是: 0.48271690926310507\n",
      "========================继续进化=========================\n"
     ]
    },
    {
     "name": "stderr",
     "output_type": "stream",
     "text": [
      " 18%|█▊        | 91/500 [08:08<40:23,  5.93s/it]"
     ]
    },
    {
     "name": "stdout",
     "output_type": "stream",
     "text": [
      "预测成功率: 0.8166666666666667\n",
      "第 600 轮中最好的适应度是: 0.48494963321375645\n",
      "========================继续进化=========================\n"
     ]
    },
    {
     "name": "stderr",
     "output_type": "stream",
     "text": [
      " 20%|██        | 101/500 [09:06<38:51,  5.84s/it]"
     ]
    },
    {
     "name": "stdout",
     "output_type": "stream",
     "text": [
      "预测成功率: 0.8266666666666667\n",
      "第 600 轮中最好的适应度是: 0.48260024135797974\n",
      "========================继续进化=========================\n"
     ]
    },
    {
     "name": "stderr",
     "output_type": "stream",
     "text": [
      " 22%|██▏       | 111/500 [10:04<36:49,  5.68s/it]"
     ]
    },
    {
     "name": "stdout",
     "output_type": "stream",
     "text": [
      "预测成功率: 0.8283333333333334\n",
      "第 600 轮中最好的适应度是: 0.5009132229340308\n",
      "========================继续进化=========================\n"
     ]
    },
    {
     "name": "stderr",
     "output_type": "stream",
     "text": [
      " 24%|██▍       | 121/500 [11:02<36:20,  5.75s/it]"
     ]
    },
    {
     "name": "stdout",
     "output_type": "stream",
     "text": [
      "预测成功率: 0.8116666666666666\n",
      "第 600 轮中最好的适应度是: 0.4499949698640168\n",
      "========================继续进化=========================\n"
     ]
    },
    {
     "name": "stderr",
     "output_type": "stream",
     "text": [
      " 26%|██▌       | 131/500 [11:57<34:10,  5.56s/it]"
     ]
    },
    {
     "name": "stdout",
     "output_type": "stream",
     "text": [
      "预测成功率: 0.8366666666666667\n",
      "第 600 轮中最好的适应度是: 0.44630365865907246\n",
      "========================继续进化=========================\n"
     ]
    },
    {
     "name": "stderr",
     "output_type": "stream",
     "text": [
      " 28%|██▊       | 141/500 [12:53<33:05,  5.53s/it]"
     ]
    },
    {
     "name": "stdout",
     "output_type": "stream",
     "text": [
      "预测成功率: 0.82\n",
      "第 600 轮中最好的适应度是: 0.405834944918911\n",
      "========================继续进化=========================\n"
     ]
    },
    {
     "name": "stderr",
     "output_type": "stream",
     "text": [
      " 30%|███       | 151/500 [13:49<33:36,  5.78s/it]"
     ]
    },
    {
     "name": "stdout",
     "output_type": "stream",
     "text": [
      "预测成功率: 0.815\n",
      "第 600 轮中最好的适应度是: 0.4133753170577522\n",
      "========================继续进化=========================\n"
     ]
    },
    {
     "name": "stderr",
     "output_type": "stream",
     "text": [
      " 32%|███▏      | 161/500 [14:47<32:22,  5.73s/it]"
     ]
    },
    {
     "name": "stdout",
     "output_type": "stream",
     "text": [
      "预测成功率: 0.8083333333333333\n",
      "第 600 轮中最好的适应度是: 0.4168450980837628\n",
      "========================继续进化=========================\n"
     ]
    },
    {
     "name": "stderr",
     "output_type": "stream",
     "text": [
      " 34%|███▍      | 171/500 [15:42<30:32,  5.57s/it]"
     ]
    },
    {
     "name": "stdout",
     "output_type": "stream",
     "text": [
      "预测成功率: 0.8216666666666667\n",
      "第 600 轮中最好的适应度是: 0.41496407826858384\n",
      "========================继续进化=========================\n"
     ]
    },
    {
     "name": "stderr",
     "output_type": "stream",
     "text": [
      " 36%|███▌      | 181/500 [16:37<29:20,  5.52s/it]"
     ]
    },
    {
     "name": "stdout",
     "output_type": "stream",
     "text": [
      "预测成功率: 0.8083333333333333\n",
      "第 600 轮中最好的适应度是: 0.39112221975758565\n",
      "========================继续进化=========================\n"
     ]
    },
    {
     "name": "stderr",
     "output_type": "stream",
     "text": [
      " 38%|███▊      | 191/500 [17:34<28:45,  5.58s/it]"
     ]
    },
    {
     "name": "stdout",
     "output_type": "stream",
     "text": [
      "预测成功率: 0.815\n",
      "第 600 轮中最好的适应度是: 0.40774431925698196\n",
      "========================继续进化=========================\n"
     ]
    },
    {
     "name": "stderr",
     "output_type": "stream",
     "text": [
      " 40%|████      | 201/500 [18:29<27:40,  5.56s/it]"
     ]
    },
    {
     "name": "stdout",
     "output_type": "stream",
     "text": [
      "预测成功率: 0.8183333333333334\n",
      "第 600 轮中最好的适应度是: 0.40327388658690905\n",
      "========================继续进化=========================\n"
     ]
    },
    {
     "name": "stderr",
     "output_type": "stream",
     "text": [
      " 42%|████▏     | 211/500 [19:25<26:46,  5.56s/it]"
     ]
    },
    {
     "name": "stdout",
     "output_type": "stream",
     "text": [
      "预测成功率: 0.805\n",
      "第 600 轮中最好的适应度是: 0.40989525685638395\n",
      "========================继续进化=========================\n"
     ]
    },
    {
     "name": "stderr",
     "output_type": "stream",
     "text": [
      " 44%|████▍     | 221/500 [20:23<27:35,  5.93s/it]"
     ]
    },
    {
     "name": "stdout",
     "output_type": "stream",
     "text": [
      "预测成功率: 0.815\n",
      "第 600 轮中最好的适应度是: 0.3944950317502578\n",
      "========================继续进化=========================\n"
     ]
    },
    {
     "name": "stderr",
     "output_type": "stream",
     "text": [
      " 46%|████▌     | 231/500 [21:19<24:56,  5.56s/it]"
     ]
    },
    {
     "name": "stdout",
     "output_type": "stream",
     "text": [
      "预测成功率: 0.82\n",
      "第 600 轮中最好的适应度是: 0.39962462685610317\n",
      "========================继续进化=========================\n"
     ]
    },
    {
     "name": "stderr",
     "output_type": "stream",
     "text": [
      " 48%|████▊     | 241/500 [22:14<23:41,  5.49s/it]"
     ]
    },
    {
     "name": "stdout",
     "output_type": "stream",
     "text": [
      "预测成功率: 0.8183333333333334\n",
      "第 600 轮中最好的适应度是: 0.37975183006192526\n",
      "========================继续进化=========================\n"
     ]
    },
    {
     "name": "stderr",
     "output_type": "stream",
     "text": [
      " 50%|█████     | 251/500 [23:13<25:28,  6.14s/it]"
     ]
    },
    {
     "name": "stdout",
     "output_type": "stream",
     "text": [
      "预测成功率: 0.8016666666666666\n",
      "第 600 轮中最好的适应度是: 0.38720482470835477\n",
      "========================继续进化=========================\n"
     ]
    },
    {
     "name": "stderr",
     "output_type": "stream",
     "text": [
      " 52%|█████▏    | 261/500 [24:12<22:33,  5.66s/it]"
     ]
    },
    {
     "name": "stdout",
     "output_type": "stream",
     "text": [
      "预测成功率: 0.805\n",
      "第 600 轮中最好的适应度是: 0.3691306615384709\n",
      "========================继续进化=========================\n"
     ]
    },
    {
     "name": "stderr",
     "output_type": "stream",
     "text": [
      " 54%|█████▍    | 271/500 [25:09<21:23,  5.60s/it]"
     ]
    },
    {
     "name": "stdout",
     "output_type": "stream",
     "text": [
      "预测成功率: 0.8233333333333334\n",
      "第 600 轮中最好的适应度是: 0.37349849202128144\n",
      "========================继续进化=========================\n"
     ]
    },
    {
     "name": "stderr",
     "output_type": "stream",
     "text": [
      " 56%|█████▌    | 281/500 [26:04<20:16,  5.56s/it]"
     ]
    },
    {
     "name": "stdout",
     "output_type": "stream",
     "text": [
      "预测成功率: 0.815\n",
      "第 600 轮中最好的适应度是: 0.358452518875818\n",
      "========================继续进化=========================\n"
     ]
    },
    {
     "name": "stderr",
     "output_type": "stream",
     "text": [
      " 58%|█████▊    | 291/500 [27:01<19:47,  5.68s/it]"
     ]
    },
    {
     "name": "stdout",
     "output_type": "stream",
     "text": [
      "预测成功率: 0.8\n",
      "第 600 轮中最好的适应度是: 0.36102129803366456\n",
      "========================继续进化=========================\n"
     ]
    },
    {
     "name": "stderr",
     "output_type": "stream",
     "text": [
      " 60%|██████    | 301/500 [27:57<18:24,  5.55s/it]"
     ]
    },
    {
     "name": "stdout",
     "output_type": "stream",
     "text": [
      "预测成功率: 0.8033333333333333\n",
      "第 600 轮中最好的适应度是: 0.34338084331787444\n",
      "========================继续进化=========================\n"
     ]
    },
    {
     "name": "stderr",
     "output_type": "stream",
     "text": [
      " 62%|██████▏   | 311/500 [28:52<17:32,  5.57s/it]"
     ]
    },
    {
     "name": "stdout",
     "output_type": "stream",
     "text": [
      "预测成功率: 0.8083333333333333\n",
      "第 600 轮中最好的适应度是: 0.35292783464972743\n",
      "========================继续进化=========================\n"
     ]
    },
    {
     "name": "stderr",
     "output_type": "stream",
     "text": [
      " 64%|██████▍   | 321/500 [29:49<17:39,  5.92s/it]"
     ]
    },
    {
     "name": "stdout",
     "output_type": "stream",
     "text": [
      "预测成功率: 0.7866666666666666\n",
      "第 600 轮中最好的适应度是: 0.36284741774374246\n",
      "========================继续进化=========================\n"
     ]
    },
    {
     "name": "stderr",
     "output_type": "stream",
     "text": [
      " 66%|██████▌   | 331/500 [30:44<15:35,  5.53s/it]"
     ]
    },
    {
     "name": "stdout",
     "output_type": "stream",
     "text": [
      "预测成功率: 0.8166666666666667\n",
      "第 600 轮中最好的适应度是: 0.3621758391563183\n",
      "========================继续进化=========================\n"
     ]
    },
    {
     "name": "stderr",
     "output_type": "stream",
     "text": [
      " 68%|██████▊   | 341/500 [31:40<14:34,  5.50s/it]"
     ]
    },
    {
     "name": "stdout",
     "output_type": "stream",
     "text": [
      "预测成功率: 0.8166666666666667\n",
      "第 600 轮中最好的适应度是: 0.37156213541661964\n",
      "========================继续进化=========================\n"
     ]
    },
    {
     "name": "stderr",
     "output_type": "stream",
     "text": [
      " 70%|███████   | 351/500 [32:36<13:58,  5.63s/it]"
     ]
    },
    {
     "name": "stdout",
     "output_type": "stream",
     "text": [
      "预测成功率: 0.8133333333333334\n",
      "第 600 轮中最好的适应度是: 0.363199411433176\n",
      "========================继续进化=========================\n"
     ]
    },
    {
     "name": "stderr",
     "output_type": "stream",
     "text": [
      " 72%|███████▏  | 361/500 [33:30<12:40,  5.47s/it]"
     ]
    },
    {
     "name": "stdout",
     "output_type": "stream",
     "text": [
      "预测成功率: 0.8283333333333334\n",
      "第 600 轮中最好的适应度是: 0.3574188851666359\n",
      "========================继续进化=========================\n"
     ]
    },
    {
     "name": "stderr",
     "output_type": "stream",
     "text": [
      " 74%|███████▍  | 371/500 [34:25<11:50,  5.50s/it]"
     ]
    },
    {
     "name": "stdout",
     "output_type": "stream",
     "text": [
      "预测成功率: 0.8133333333333334\n",
      "第 600 轮中最好的适应度是: 0.35365373225624713\n",
      "========================继续进化=========================\n"
     ]
    },
    {
     "name": "stderr",
     "output_type": "stream",
     "text": [
      " 76%|███████▌  | 381/500 [35:22<11:09,  5.63s/it]"
     ]
    },
    {
     "name": "stdout",
     "output_type": "stream",
     "text": [
      "预测成功率: 0.8116666666666666\n",
      "第 600 轮中最好的适应度是: 0.35496265766606433\n",
      "========================继续进化=========================\n"
     ]
    },
    {
     "name": "stderr",
     "output_type": "stream",
     "text": [
      " 78%|███████▊  | 391/500 [36:18<10:10,  5.60s/it]"
     ]
    },
    {
     "name": "stdout",
     "output_type": "stream",
     "text": [
      "预测成功率: 0.8266666666666667\n",
      "第 600 轮中最好的适应度是: 0.34664571615714573\n",
      "========================继续进化=========================\n"
     ]
    },
    {
     "name": "stderr",
     "output_type": "stream",
     "text": [
      " 80%|████████  | 401/500 [37:16<09:39,  5.86s/it]"
     ]
    },
    {
     "name": "stdout",
     "output_type": "stream",
     "text": [
      "预测成功率: 0.8233333333333334\n",
      "第 600 轮中最好的适应度是: 0.3501643324924467\n",
      "========================继续进化=========================\n"
     ]
    },
    {
     "name": "stderr",
     "output_type": "stream",
     "text": [
      " 82%|████████▏ | 411/500 [38:03<05:54,  3.98s/it]"
     ]
    },
    {
     "name": "stdout",
     "output_type": "stream",
     "text": [
      "预测成功率: 0.8316666666666667\n",
      "第 600 轮中最好的适应度是: 0.35121839911729086\n",
      "========================继续进化=========================\n"
     ]
    },
    {
     "name": "stderr",
     "output_type": "stream",
     "text": [
      " 84%|████████▍ | 421/500 [38:43<05:15,  3.99s/it]"
     ]
    },
    {
     "name": "stdout",
     "output_type": "stream",
     "text": [
      "预测成功率: 0.8233333333333334\n",
      "第 600 轮中最好的适应度是: 0.3473842734459751\n",
      "========================继续进化=========================\n"
     ]
    },
    {
     "name": "stderr",
     "output_type": "stream",
     "text": [
      " 86%|████████▌ | 431/500 [39:18<03:57,  3.44s/it]"
     ]
    },
    {
     "name": "stdout",
     "output_type": "stream",
     "text": [
      "预测成功率: 0.825\n",
      "第 600 轮中最好的适应度是: 0.34553697197376043\n",
      "========================继续进化=========================\n"
     ]
    },
    {
     "name": "stderr",
     "output_type": "stream",
     "text": [
      " 88%|████████▊ | 441/500 [39:51<03:17,  3.34s/it]"
     ]
    },
    {
     "name": "stdout",
     "output_type": "stream",
     "text": [
      "预测成功率: 0.8233333333333334\n",
      "第 600 轮中最好的适应度是: 0.33950745892406275\n",
      "========================继续进化=========================\n"
     ]
    },
    {
     "name": "stderr",
     "output_type": "stream",
     "text": [
      " 90%|█████████ | 451/500 [40:25<02:43,  3.33s/it]"
     ]
    },
    {
     "name": "stdout",
     "output_type": "stream",
     "text": [
      "预测成功率: 0.8216666666666667\n",
      "第 600 轮中最好的适应度是: 0.3366092994553059\n",
      "========================继续进化=========================\n"
     ]
    },
    {
     "name": "stderr",
     "output_type": "stream",
     "text": [
      " 92%|█████████▏| 461/500 [40:58<02:09,  3.33s/it]"
     ]
    },
    {
     "name": "stdout",
     "output_type": "stream",
     "text": [
      "预测成功率: 0.8183333333333334\n",
      "第 600 轮中最好的适应度是: 0.34839104074600913\n",
      "========================继续进化=========================\n"
     ]
    },
    {
     "name": "stderr",
     "output_type": "stream",
     "text": [
      " 94%|█████████▍| 471/500 [41:31<01:36,  3.32s/it]"
     ]
    },
    {
     "name": "stdout",
     "output_type": "stream",
     "text": [
      "预测成功率: 0.825\n",
      "第 600 轮中最好的适应度是: 0.3467898969662137\n",
      "========================继续进化=========================\n"
     ]
    },
    {
     "name": "stderr",
     "output_type": "stream",
     "text": [
      " 96%|█████████▌| 481/500 [42:04<01:03,  3.33s/it]"
     ]
    },
    {
     "name": "stdout",
     "output_type": "stream",
     "text": [
      "预测成功率: 0.83\n",
      "第 600 轮中最好的适应度是: 0.3446958168823144\n",
      "========================继续进化=========================\n"
     ]
    },
    {
     "name": "stderr",
     "output_type": "stream",
     "text": [
      " 98%|█████████▊| 491/500 [42:38<00:30,  3.34s/it]"
     ]
    },
    {
     "name": "stdout",
     "output_type": "stream",
     "text": [
      "预测成功率: 0.8116666666666666\n",
      "第 600 轮中最好的适应度是: 0.34510230950442705\n",
      "========================继续进化=========================\n"
     ]
    },
    {
     "name": "stderr",
     "output_type": "stream",
     "text": [
      "100%|██████████| 500/500 [43:08<00:00,  5.18s/it]"
     ]
    },
    {
     "name": "stdout",
     "output_type": "stream",
     "text": [
      "最好的隐藏层矩阵是: [[ 2.64711632e+00  3.63636364e-01 -3.96089932e+00 -2.81915934e+00\n",
      "   9.34506354e-01 -3.17888563e+00]\n",
      " [ 1.25513196e+00  2.45161290e+00 -8.17204301e-01  3.31964809e+00\n",
      "   6.45161290e-01  3.69501466e+00]\n",
      " [-3.20234604e+00 -2.04496579e+00 -3.16324536e+00 -3.44477028e+00\n",
      "   2.63147605e+00  1.90420332e+00]\n",
      " [ 2.99902248e+00  2.51417400e+00 -9.18866080e-01  3.94916911e-01\n",
      "  -3.03812317e+00 -3.80449658e+00]\n",
      " [-2.35777126e+00  3.76539589e+00  5.90420332e-01  1.97458456e+00\n",
      "   1.60703812e+00 -1.60312805e-01]\n",
      " [-2.72531769e+00  3.82795699e+00  3.11632454e+00 -2.89736070e+00\n",
      "  -2.16226784e+00  1.78690127e+00]\n",
      " [ 2.85434995e-01  7.42913001e-02 -2.92082111e+00 -2.37341153e+00\n",
      "  -5.51319648e-01 -3.91006843e-03]\n",
      " [ 2.27956989e+00  4.57478006e-01  3.49951124e+00 -8.79765396e-01\n",
      "  -3.87487781e+00  2.90518084e+00]\n",
      " [-3.96871945e+00  2.93646139e+00  3.46823069e+00 -3.54643206e+00\n",
      "  -2.31085044e+00 -2.41251222e+00]\n",
      " [ 3.91006843e-03 -1.83382209e+00  1.16129032e+00 -2.70967742e+00\n",
      "   3.47605083e+00 -3.93743891e+00]\n",
      " [-1.93548387e+00  1.88856305e+00  2.38905181e+00 -1.27859238e+00\n",
      "  -2.20918866e+00  3.97653959e+00]\n",
      " [ 2.51417400e+00  9.03225806e-01 -1.31769306e+00  2.41251222e+00\n",
      "  -9.42326491e-01  2.61583578e+00]\n",
      " [-2.60801564e+00  1.84946237e+00  3.42130987e+00  2.83479961e+00\n",
      "   3.24535679e-01 -2.20136852e+00]\n",
      " [ 2.70967742e+00 -3.03812317e+00  1.83773216e-01  1.55229717e+00\n",
      "  -1.05571848e-01  1.97458456e+00]\n",
      " [ 4.49657869e-01  3.37438905e+00  3.21016618e+00  1.59139785e+00\n",
      "  -1.97458456e+00 -3.94916911e-01]]\n",
      "最好的隐藏层偏执是: [-0.18269295  0.51513123  0.35835607 -0.09498955  0.07559955  0.10116315]\n",
      "最好的适应度是: 0.3449552584905023\n",
      "最终预测成功率: 0.8116666666666666\n",
      "=========================END=======================\n"
     ]
    },
    {
     "name": "stderr",
     "output_type": "stream",
     "text": [
      "\n"
     ]
    },
    {
     "data": {
      "image/png": "[encoded data removed]",
      "text/plain": [
       "<Figure size 432x288 with 1 Axes>"
      ]
     },
     "metadata": {
      "needs_background": "light"
     },
     "output_type": "display_data"
    }
   ],
   "source": [
    "\n",
    "# (self,population_size,hidden,weight,chromosome_length,max_value,pc,pm):\n",
    "ga=GA(objfunction=function1,gen=500,population_size=500,hidden=6,weight=15,chromosome_length=10,\n",
    "      max_value=1,death_rate=0.75,pc=0.75,pm=0.02,lower=-4,upper=4)\n",
    "W,b=ga.main()\n"
   ]
  },
  {
   "cell_type": "code",
   "execution_count": null,
   "metadata": {},
   "outputs": [],
   "source": []
  }
 ],
 "metadata": {
  "kernelspec": {
   "display_name": "Python 3",
   "language": "python",
   "name": "python3"
  },
  "language_info": {
   "codemirror_mode": {
    "name": "ipython",
    "version": 3
   },
   "file_extension": ".py",
   "mimetype": "text/x-python",
   "name": "python",
   "nbconvert_exporter": "python",
   "pygments_lexer": "ipython3",
   "version": "3.8.3"
  }
 },
 "nbformat": 4,
 "nbformat_minor": 4
}
